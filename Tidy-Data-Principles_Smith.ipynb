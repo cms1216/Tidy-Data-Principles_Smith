{
 "cells": [
  {
   "cell_type": "markdown",
   "metadata": {},
   "source": [
    "# CSE-10102-01\n",
    "\n",
    "## Elements of Computing II\n",
    "\n",
    "Student Name: **Connor Smith**\n",
    "<br>\n",
    "Net ID: **csmith77**\n",
    "<br>\n",
    "Title: **Tidy Data Principles**"
   ]
  },
  {
   "cell_type": "markdown",
   "metadata": {},
   "source": [
    "**Q1: What questions do you have about these principles? Which ones are unclear are confusing?**"
   ]
  },
  {
   "cell_type": "markdown",
   "metadata": {},
   "source": [
    "<Blockquote>AnswerQ1. When looking at the principles they all really make sense and having lots of experience with normalizatoin and third normal form. Nothing is unclear to me.</Blockquote>"
   ]
  },
  {
   "cell_type": "markdown",
   "metadata": {},
   "source": [
    "**Q2: What fields are represented in these datasets? Describe the data fields in your own words. Use the language of string, double, and integer to describe the data fields.**"
   ]
  },
  {
   "cell_type": "markdown",
   "metadata": {},
   "source": [
    "<Blockquote>AnswerQ2. When looking through the data sets, I see that id_person which is a primary key integer field, dob which is a string, city which is a string, state which is a string, country which is a string, region which is a string, group which is a string, lat which is a double, long which is a double are in the birthplaces table and team_id which is a integer, season which is a integer, affiliate_league which is a string, affiliate which is a string, league which is a string, team_name which is a string, classification which is a string, category which is a string, location_id which is a fourign key and a integer, city which is a string, state which is a string, country which is a string, lat which is a double, and long which is a double are in the locations table.</Blockquote>"
   ]
  },
  {
   "cell_type": "markdown",
   "metadata": {},
   "source": [
    "**Q3: Provide 3 distinct examples from the sample datasets that do not conform to tidy data principles. Include the example as well as an explanation.**"
   ]
  },
  {
   "cell_type": "markdown",
   "metadata": {},
   "source": [
    "<Blockquote>AnswerQ3. Classification, Category, League Name all could be fourign keys to their own tables that could normalize the data in the set a lot more. For example, Classification needs to be explained as not everyone knows that MLB is major league baseball and MiLB as is minor league baseball. </Blockquote>"
   ]
  },
  {
   "cell_type": "markdown",
   "metadata": {},
   "source": [
    "**Q4: Discuss with a colleague what issues you are seeing in these datasetes. What commonalities or patterns are you seeing?**"
   ]
  },
  {
   "cell_type": "markdown",
   "metadata": {},
   "source": [
    "<Blockquote>AnswerQ4. One thing that I notice is that the data sometimes uses abviviations that are undefined or switched from abriviated to full name within the same data set which is terrorible practice. </Blockquote>"
   ]
  },
  {
   "cell_type": "markdown",
   "metadata": {},
   "source": [
    "**Q5: How would you address these pattern errors so the data conforms to tidy data principles? Describe what steps you would take to address at least 3 pattern errors. For each error, include the following elements: an example of the error, an explanation of your method to address the error, and the same example as tidy data.**"
   ]
  },
  {
   "cell_type": "markdown",
   "metadata": {},
   "source": [
    "<Blockquote>AnswerQ5. Putting the data into third normal form and having a consistant data practice between all the items in each column is important to have tidy data. For example, the season column should have the year written out in full as some entrys have \"17\" and some have \"2017\". Another example is the affiliate column which some entrys have the teams abreviation like \"DET\" while others have the team name like \"Detriot Tigers\" so each column having the abreviation and another table explaining those abreviations would be best practice. Finally, in the classification column some entrys had \"Double A\" and other have \"AA\" which should just be streamlined to the \"AA\" abreviation with a separate table explaining what that means. </Blockquote>"
   ]
  },
  {
   "cell_type": "markdown",
   "metadata": {},
   "source": [
    "**Q6: Compare your experience working in OpenRefine to other experiences you have had in a text editor or spreadsheet program. In what ways do you understand, perceive, or relate to the data differently through working in OpenRefine? Describe your experience cleaning this data in OpenRefine.**"
   ]
  },
  {
   "cell_type": "markdown",
   "metadata": {},
   "source": [
    "<Blockquote>AnswerQ6. After working with OpenRefine I really enjoyed working with it as it made it easy to quickly edit data and make it uniform. The ability to quick change incorrect data was easy to use and helpful for quick yet effective work.</Blockquote>"
   ]
  },
  {
   "cell_type": "markdown",
   "metadata": {},
   "source": [
    "**Q7: Describe a past experience working with a spreadsheet program. What were you trying to do? How did it go? What was your overall feeling about working with data in a spreadsheet program?**"
   ]
  },
  {
   "cell_type": "markdown",
   "metadata": {},
   "source": [
    "<Blockquote>AnswerQ7. One past experience I have had with a spreadsheet program was when I created a aggregated ranking system for baseball players for my fantasy baseball league draft. This would allow me to know the true overall ranking players had and who to draft and when so I was using my picks effectively. It went quite well and worked and the data was well done and easy to understand. </Blockquote>"
   ]
  },
  {
   "cell_type": "markdown",
   "metadata": {},
   "source": [
    "**Q8: Compare your experience working in Excel to your experience working in OpenRefine. In what ways do you understand, perceive, or relate to the data differently through working in Excel? Describe your experience cleaning this data in Excel.**"
   ]
  },
  {
   "cell_type": "markdown",
   "metadata": {},
   "source": [
    "<Blockquote>AnswerQ8. While excel is a great program it is much harder to change large amounts of data at once compared to OpenRefine. Working with data is easy to work with in excel but changing data in excel sucks unline OpenRefine. Cleaning Data in excel is just writing a VBA program to pull all the data them command F'ing the wrong ones and group changing them to the correct one.</Blockquote>"
   ]
  },
  {
   "cell_type": "markdown",
   "metadata": {},
   "source": [
    "**Q9: For the baseball datasets we have been working with in this lab, what do you think may have contributed to or caused the pattern errors we needed to address? How could these pattern errors be addressed in the data entry process?**"
   ]
  },
  {
   "cell_type": "markdown",
   "metadata": {},
   "source": [
    "<Blockquote>AnswerQ9. When looking at the data set, one thing i noticed was that the data wasnt inharently wrong its just that it didnt match up. this could have been done if two people were working on the data set at once as one would lik to add written out versions of information while the other abreviates. This can be addressed however by having a strong set of rules while entering data similar to the normalization rules. So, if all data in in third normal form, there is no disconnect. </Blockquote>"
   ]
  },
  {
   "cell_type": "markdown",
   "metadata": {},
   "source": [
    "**Q10: Describe how you would go about building a survey form or template for the Tidy_Data_Lab_PlayerBirthplaces.csv file. You DO NOT need to actually create or submit a survey form. Describe what types of questions and pre-defined question or field options could you use to more effectively generate the data in this file.**"
   ]
  },
  {
   "cell_type": "markdown",
   "metadata": {},
   "source": [
    "<Blockquote>AnswerQ10. Using the template from the Tidy_Data_Lab_PlayerBirthplaces.csv file, we can gather more data using a survey and multiple choice or short answer responses as the servey questions could populate a sheet with all the information needed. For example, it may be tedious but say you wanted to reenter the data from a file into a program, using forms you can make the questions ask for answers in a specific way so that everything that is entered into the new sheet from the forms answers is in the same format and can be immediatly searched and used without having to change or improve the dataset.</Blockquote>"
   ]
  },
  {
   "cell_type": "markdown",
   "metadata": {},
   "source": [
    "**Q11: Describe how you would go about using data validation to build a template for the Tidy_Data_Lab_PlayerBirthplaces.csv file. You DO NOT need to actually create or submit a template. Describe what data validation options and pre-defined field options could you use to more effectively generate the data in this file.**"
   ]
  },
  {
   "cell_type": "markdown",
   "metadata": {},
   "source": [
    "<Blockquote>AnswerQ11. Using data validation in excel, you can run each column through the system and have excel point out any cells with contents that dont match the desired result. For example, if you are  trying to find the country code for where someone was born, it would leave everything that is two characters long alone and highlight anything more than two characters so that you know what needs to be abreviated down to a two letter code. </Blockquote>"
   ]
  }
 ],
 "metadata": {
  "kernelspec": {
   "display_name": "Python 3",
   "language": "python",
   "name": "python3"
  },
  "language_info": {
   "codemirror_mode": {
    "name": "ipython",
    "version": 3
   },
   "file_extension": ".py",
   "mimetype": "text/x-python",
   "name": "python",
   "nbconvert_exporter": "python",
   "pygments_lexer": "ipython3",
   "version": "3.8.5"
  }
 },
 "nbformat": 4,
 "nbformat_minor": 5
}
